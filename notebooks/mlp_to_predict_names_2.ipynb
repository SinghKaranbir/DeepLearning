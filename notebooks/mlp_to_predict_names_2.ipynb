{
 "cells": [
  {
   "cell_type": "code",
   "execution_count": 10,
   "id": "b4faa7e0-fc7c-4019-8b60-e8b48b68b587",
   "metadata": {},
   "outputs": [],
   "source": [
    "import torch\n",
    "from torch.nn import functional as F \n",
    "import matplotlib.pyplot as plt\n",
    "import random"
   ]
  },
  {
   "cell_type": "code",
   "execution_count": 11,
   "id": "e4039118-d711-4533-bbdc-1a6f841711d3",
   "metadata": {},
   "outputs": [
    {
     "data": {
      "text/plain": [
       "['emma',\n",
       " 'olivia',\n",
       " 'ava',\n",
       " 'isabella',\n",
       " 'sophia',\n",
       " 'charlotte',\n",
       " 'mia',\n",
       " 'amelia',\n",
       " 'harper',\n",
       " 'evelyn']"
      ]
     },
     "execution_count": 11,
     "metadata": {},
     "output_type": "execute_result"
    }
   ],
   "source": [
    "# Fetch all names from the file\n",
    "names = []\n",
    "with open('names.txt') as file:\n",
    "    for name in file.read().splitlines():\n",
    "        names.append(name)\n",
    "names[:10]"
   ]
  },
  {
   "cell_type": "code",
   "execution_count": 12,
   "id": "58955c08-2025-4192-8689-a6838ff222a9",
   "metadata": {},
   "outputs": [
    {
     "name": "stdout",
     "output_type": "stream",
     "text": [
      "Size of vocab = 27\n"
     ]
    }
   ],
   "source": [
    "# Build vocab\n",
    "chars = sorted(set(\".\".join(names)))\n",
    "\n",
    "stoi = {ch: i for i,ch in enumerate(chars)}\n",
    "itos = {i:ch for ch, i in stoi.items()}\n",
    "vocab = len(itos)\n",
    "\n",
    "print(f\"Size of {vocab = }\") "
   ]
  },
  {
   "cell_type": "code",
   "execution_count": 13,
   "id": "97bdf7d5-40e9-443f-8eed-19fcf8241442",
   "metadata": {},
   "outputs": [
    {
     "name": "stdout",
     "output_type": "stream",
     "text": [
      "torch.Size([182625, 3]) torch.Size([182625])\n",
      "torch.Size([22655, 3]) torch.Size([22655])\n",
      "torch.Size([22866, 3]) torch.Size([22866])\n"
     ]
    }
   ],
   "source": [
    "# build the dataset\n",
    "block_size = 3 # context length: how many characters do we take to predict the next one?\n",
    "\n",
    "def build_dataset(names):\n",
    "  X, Y = [], []\n",
    "  for w in names:\n",
    "\n",
    "    #print(w)\n",
    "    context = [0] * block_size\n",
    "    for ch in w + '.':\n",
    "      ix = stoi[ch]\n",
    "      X.append(context)\n",
    "      Y.append(ix)\n",
    "      #print(''.join(itos[i] for i in context), '--->', itos[ix])\n",
    "      context = context[1:] + [ix] # crop and append\n",
    "\n",
    "  X = torch.tensor(X)\n",
    "  Y = torch.tensor(Y)\n",
    "  print(X.shape, Y.shape)\n",
    "  return X, Y\n",
    "\n",
    "random.seed(42)\n",
    "random.shuffle(names)\n",
    "n1 = int(0.8*len(names))\n",
    "n2 = int(0.9*len(names))\n",
    "\n",
    "X_train, y_train = build_dataset(names[:n1])\n",
    "X_dev, y_dev = build_dataset(names[n1:n2])\n",
    "X_test, y_test = build_dataset(names[n2:])"
   ]
  },
  {
   "cell_type": "code",
   "execution_count": 62,
   "id": "2c4d2efe-97da-4bcd-9ce3-bff17b618f90",
   "metadata": {},
   "outputs": [],
   "source": [
    "# init params\n",
    "n_dims = 10 # no of dimens of Embedding Vector\n",
    "n_hidden = 200 # no of nuerons in the hidden layer\n",
    "g = torch.Generator().manual_seed(2147483647)\n",
    "C = torch.randn(vocab, n_dims, generator=g)\n",
    "W1 = torch.randn(n_dims * block_size, n_hidden, generator=g) * (5/3)/((n_dims * block_size) ** 0.5)  # HE initialization\n",
    "#b1 = torch.randn(n_hidden, generator=g) * 0.01\n",
    "W2 = torch.randn(n_hidden, vocab, generator=g) * 0.01\n",
    "b2 = torch.randn(vocab, generator=g) * 0\n",
    "\n",
    "# BatchNorm parameters\n",
    "bngain = torch.ones((1, n_hidden))\n",
    "bnbias = torch.zeros((1, n_hidden))\n",
    "\n",
    "bnmean_running = torch.zeros((1, n_hidden))\n",
    "bnstd_running = torch.ones((1, n_hidden))\n",
    "\n",
    "parameters = [C, W1, W2, b2, bngain, bnbias]"
   ]
  },
  {
   "cell_type": "code",
   "execution_count": 63,
   "id": "b4337db2-dddd-426d-a271-7c246799c1c2",
   "metadata": {},
   "outputs": [
    {
     "data": {
      "text/plain": [
       "12097"
      ]
     },
     "execution_count": 63,
     "metadata": {},
     "output_type": "execute_result"
    }
   ],
   "source": [
    "no_params = sum(p.nelement() for p in parameters)\n",
    "\n",
    "no_params"
   ]
  },
  {
   "cell_type": "code",
   "execution_count": 64,
   "id": "04fbaae2-2ffd-45eb-ba5b-721f1e48e41f",
   "metadata": {},
   "outputs": [],
   "source": [
    "for p in parameters:\n",
    "    p.requires_grad = True"
   ]
  },
  {
   "cell_type": "code",
   "execution_count": 65,
   "id": "e865799e-fde0-4f7a-9a96-70f57cc2b680",
   "metadata": {},
   "outputs": [],
   "source": [
    "# How to pick a better learning rate\n",
    "lre = torch.linspace(-3, 0, 1000)\n",
    "lrs = 10 ** lre"
   ]
  },
  {
   "cell_type": "code",
   "execution_count": 66,
   "id": "4fffe6dd-8d89-43c0-a0db-6f219463d3a2",
   "metadata": {},
   "outputs": [
    {
     "name": "stdout",
     "output_type": "stream",
     "text": [
      "      0/ 200000: 3.2853\n",
      "  10000/ 200000: 2.1819\n",
      "  20000/ 200000: 2.1869\n",
      "  30000/ 200000: 2.0904\n",
      "  40000/ 200000: 2.0733\n",
      "  50000/ 200000: 2.0338\n",
      "  60000/ 200000: 2.0713\n",
      "  70000/ 200000: 2.0947\n",
      "  80000/ 200000: 2.4409\n",
      "  90000/ 200000: 2.1532\n",
      " 100000/ 200000: 2.1783\n",
      " 110000/ 200000: 2.1042\n",
      " 120000/ 200000: 1.9672\n",
      " 130000/ 200000: 2.2217\n",
      " 140000/ 200000: 2.1010\n",
      " 150000/ 200000: 2.1367\n",
      " 160000/ 200000: 2.0504\n",
      " 170000/ 200000: 1.9877\n",
      " 180000/ 200000: 1.9026\n",
      " 190000/ 200000: 1.8821\n",
      "0.2962450087070465\n"
     ]
    }
   ],
   "source": [
    "losses = []\n",
    "max_steps = 200000\n",
    "for i in range(max_steps):\n",
    "    ix = torch.randint(0, X_train.shape[0], (100,))\n",
    "    # input layer\n",
    "    embedding = C[X_train[ix]].view(X_train[ix].shape[0], -1)\n",
    "    # Linear layer\n",
    "    preact = embedding @ W1 #+b1\n",
    "    # Batch Norm\n",
    "    bn_mean = preact.mean(0, keepdim=True)\n",
    "    bn_std = preact.std(0, keepdim=True)\n",
    "    preact = bngain * (preact - bn_mean) / bn_std + bnbias\n",
    "    with torch.no_grad():\n",
    "        bnmean_running = 0.999 * bnmean_running + 0.001 * bn_mean\n",
    "        bnstd_running = 0.999 * bnstd_running + 0.001 * bn_std\n",
    "    # Activation\n",
    "    h = torch.tanh(preact)\n",
    "    # Output layer\n",
    "    logits = h @ W2 + b2\n",
    "    loss = F.cross_entropy(logits, y_train[ix])\n",
    "\n",
    "    #backward prop\n",
    "    for p in parameters:\n",
    "        p.grad = None\n",
    "    loss.backward()\n",
    "\n",
    "    # Update params\n",
    "    lr = 0.1 if i < 100000 else 0.01\n",
    "    for p in parameters:\n",
    "        p.data += -lr * p.grad\n",
    "        \n",
    "    # track stats\n",
    "    if i % 10000 == 0: # print every once in a while\n",
    "        print(f'{i:7d}/{max_steps:7d}: {loss.item():.4f}')\n",
    "        \n",
    "    losses.append(loss.log10().item())\n",
    "print(f\"{losses[-1]}\")"
   ]
  },
  {
   "cell_type": "code",
   "execution_count": 67,
   "id": "56fb63ec-fb76-49e7-b933-7e573bed992f",
   "metadata": {},
   "outputs": [
    {
     "name": "stdout",
     "output_type": "stream",
     "text": [
      "train 2.035623788833618\n",
      "val 2.0951263904571533\n"
     ]
    }
   ],
   "source": [
    "@torch.no_grad() # this decorator disables gradient tracking\n",
    "def split_loss(split):\n",
    "  X,y = {\n",
    "    'train': (X_train, y_train),\n",
    "    'val': (X_dev, y_dev),\n",
    "    'test': (X_test, y_test),\n",
    "  }[split]\n",
    "  emb = C[X] # (N, block_size, n_embd)\n",
    "  embcat = emb.view(emb.shape[0], -1) # concat into (N, block_size * n_embd)\n",
    "  hpreact = embcat @ W1 # + b1\n",
    "  hpreact = bngain * (hpreact - bnmean_running) / bnstd_running + bnbias\n",
    "  h = torch.tanh(hpreact) # (N, n_hidden)\n",
    "  logits = h @ W2 + b2 # (N, vocab_size)\n",
    "  loss = F.cross_entropy(logits, y)\n",
    "  print(split, loss.item())\n",
    "\n",
    "split_loss('train')\n",
    "split_loss('val')"
   ]
  },
  {
   "cell_type": "code",
   "execution_count": 55,
   "id": "064901b2-478d-41e8-984a-475a16339862",
   "metadata": {},
   "outputs": [
    {
     "data": {
      "text/plain": [
       "[<matplotlib.lines.Line2D at 0x12fad3410>]"
      ]
     },
     "execution_count": 55,
     "metadata": {},
     "output_type": "execute_result"
    },
    {
     "data": {
      "image/png": "[encoded data removed]",
      "text/plain": [
       "<Figure size 640x480 with 1 Axes>"
      ]
     },
     "metadata": {},
     "output_type": "display_data"
    }
   ],
   "source": [
    "plt.plot(losses)"
   ]
  },
  {
   "cell_type": "code",
   "execution_count": 56,
   "id": "a8cd4991-8053-44a4-b311-2945fd513470",
   "metadata": {},
   "outputs": [
    {
     "name": "stdout",
     "output_type": "stream",
     "text": [
      "chrpahzldi.\n",
      "llvith.\n",
      "mlix.\n",
      "thty.\n",
      "sklasskynl.\n",
      "bubbddhetric.\n",
      "vregi.\n",
      "shannithchrishby.\n",
      "legz.\n",
      "shbhrtdin.\n",
      "quqjuss.\n",
      "linghbvaniquwlutrygdifryxi.\n",
      "frydini.\n",
      "sabbbdde.\n",
      "siq.\n",
      "gtlechylan.\n",
      "varqembysj.\n",
      "ksymberqany.\n",
      "zelph.\n",
      "jkmislak.\n"
     ]
    }
   ],
   "source": [
    "# sample from the model\n",
    "g = torch.Generator().manual_seed(2147483647 + 10)\n",
    "\n",
    "for _ in range(20):\n",
    "    \n",
    "    out = []\n",
    "    context = [0] * block_size # initialize with all ...\n",
    "    while True:\n",
    "      emb = C[torch.tensor([context])] # (1,block_size,d)\n",
    "      h = torch.tanh(emb.view(1, -1) @ W1 + b1)\n",
    "      logits = h @ W2 + b2\n",
    "      probs = F.softmax(logits, dim=1)\n",
    "      ix = torch.multinomial(probs, num_samples=1, generator=g).item()\n",
    "      context = context[1:] + [ix]\n",
    "      out.append(ix)\n",
    "      if ix == 0:\n",
    "        break\n",
    "    \n",
    "    print(''.join(itos[i] for i in out))"
   ]
  },
  {
   "cell_type": "code",
   "execution_count": 68,
   "id": "57f89918-69bf-4662-8392-f1c6570e7502",
   "metadata": {},
   "outputs": [
    {
     "data": {
      "image/png": "[encoded data removed]",
      "text/plain": [
       "<Figure size 640x480 with 1 Axes>"
      ]
     },
     "metadata": {},
     "output_type": "display_data"
    }
   ],
   "source": [
    "plt.hist(h.view(-1).tolist(), 50);"
   ]
  },
  {
   "cell_type": "code",
   "execution_count": 69,
   "id": "da5d80be-ae48-480c-93c9-b2e9fc166c4d",
   "metadata": {},
   "outputs": [
    {
     "data": {
      "image/png": "[encoded data removed]",
      "text/plain": [
       "<Figure size 640x480 with 1 Axes>"
      ]
     },
     "metadata": {},
     "output_type": "display_data"
    }
   ],
   "source": [
    "plt.hist(preact.view(-1).tolist(), 50);"
   ]
  },
  {
   "cell_type": "code",
   "execution_count": 70,
   "id": "8421600f-f215-460f-a156-a94bc3b45d69",
   "metadata": {},
   "outputs": [
    {
     "data": {
      "text/plain": [
       "<matplotlib.image.AxesImage at 0x149dabdd0>"
      ]
     },
     "execution_count": 70,
     "metadata": {},
     "output_type": "execute_result"
    },
    {
     "data": {
      "image/png": "[encoded data removed]",
      "text/plain": [
       "<Figure size 2000x1000 with 1 Axes>"
      ]
     },
     "metadata": {},
     "output_type": "display_data"
    }
   ],
   "source": [
    "plt.figure(figsize=(20,10))\n",
    "plt.imshow(h.abs() > 0.99, cmap=\"gray\", interpolation=\"nearest\")"
   ]
  },
  {
   "cell_type": "markdown",
   "id": "9049e313-9e5b-44aa-90ab-0f8025d68f41",
   "metadata": {},
   "source": [
    "## Torchify the code"
   ]
  },
  {
   "cell_type": "code",
   "execution_count": null,
   "id": "2eb79526-424e-40ab-af19-65f8ae26666a",
   "metadata": {},
   "outputs": [],
   "source": [
    "class Linear:\n",
    "\n",
    "    def __init__(self, fan_in, fan_out, bais=True):\n",
    "        self.weight = torch.randn((fan_in, fan_out), generator=g) / fan_in**0.5\n",
    "        self.bias = torch.zeros(fan_out) if bias else None\n",
    "        \n",
    "    def __call__(self, X):\n",
    "        self.out = X @ self.weight\n",
    "        if self.bais:\n",
    "            self.out += self.bais\n",
    "        return self.out\n",
    "        \n",
    "    def parameters(self):\n",
    "        return [self.weight] + ([] if self.bias is None else [self.bias])\n",
    "\n",
    "class BatchNorm1d:\n",
    "  \n",
    "  def __init__(self, dim, eps=1e-5, momentum=0.1):\n",
    "    self.eps = eps\n",
    "    self.momentum = momentum\n",
    "    self.training = True\n",
    "    # parameters (trained with backprop)\n",
    "    self.gamma = torch.ones(dim)\n",
    "    self.beta = torch.zeros(dim)\n",
    "    # buffers (trained with a running 'momentum update')\n",
    "    self.running_mean = torch.zeros(dim)\n",
    "    self.running_var = torch.ones(dim)\n",
    "  \n",
    "  def __call__(self, x):\n",
    "    # calculate the forward pass\n",
    "    if self.training:\n",
    "      xmean = x.mean(0, keepdim=True) # batch mean\n",
    "      xvar = x.var(0, keepdim=True) # batch variance\n",
    "    else:\n",
    "      xmean = self.running_mean\n",
    "      xvar = self.running_var\n",
    "    xhat = (x - xmean) / torch.sqrt(xvar + self.eps) # normalize to unit variance\n",
    "    self.out = self.gamma * xhat + self.beta\n",
    "    # update the buffers\n",
    "    if self.training:\n",
    "      with torch.no_grad():\n",
    "        self.running_mean = (1 - self.momentum) * self.running_mean + self.momentum * xmean\n",
    "        self.running_var = (1 - self.momentum) * self.running_var + self.momentum * xvar\n",
    "    return self.out\n",
    "  \n",
    "  def parameters(self):\n",
    "    return [self.gamma, self.beta]\n",
    "\n",
    "class Tanh:\n",
    "  def __call__(self, x):\n",
    "    self.out = torch.tanh(x)\n",
    "    return self.out\n",
    "  def parameters(self):\n",
    "    return []\n"
   ]
  }
 ],
 "metadata": {
  "kernelspec": {
   "display_name": "Python 3 (ipykernel)",
   "language": "python",
   "name": "python3"
  },
  "language_info": {
   "codemirror_mode": {
    "name": "ipython",
    "version": 3
   },
   "file_extension": ".py",
   "mimetype": "text/x-python",
   "name": "python",
   "nbconvert_exporter": "python",
   "pygments_lexer": "ipython3",
   "version": "3.11.8"
  }
 },
 "nbformat": 4,
 "nbformat_minor": 5
}
